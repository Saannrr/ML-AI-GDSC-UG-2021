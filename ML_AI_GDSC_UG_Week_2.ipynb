{
  "nbformat": 4,
  "nbformat_minor": 0,
  "metadata": {
    "colab": {
      "name": "ML/AI GDSC UG Week 2.ipynb",
      "provenance": [],
      "authorship_tag": "ABX9TyMU9GIWWeR4xBKhsLVvXFHQ",
      "include_colab_link": true
    },
    "kernelspec": {
      "name": "python3",
      "display_name": "Python 3"
    },
    "language_info": {
      "name": "python"
    }
  },
  "cells": [
    {
      "cell_type": "markdown",
      "metadata": {
        "id": "view-in-github",
        "colab_type": "text"
      },
      "source": [
        "<a href=\"https://colab.research.google.com/github/Saannrr/ML-AI-GDSC-UG-2021/blob/main/ML_AI_GDSC_UG_Week_2.ipynb\" target=\"_parent\"><img src=\"https://colab.research.google.com/assets/colab-badge.svg\" alt=\"Open In Colab\"/></a>"
      ]
    },
    {
      "cell_type": "code",
      "metadata": {
        "id": "7ZMlxxv9Fac-"
      },
      "source": [
        "import pandas as pd\n",
        "movies = pd.read_csv('movies.csv')\n",
        "ratings = pd.read_csv('ratings.csv')"
      ],
      "execution_count": 3,
      "outputs": []
    },
    {
      "cell_type": "code",
      "metadata": {
        "colab": {
          "base_uri": "https://localhost:8080/",
          "height": 204
        },
        "id": "pBAfuujEGFPV",
        "outputId": "ae53b6fd-20f2-4209-83e2-5d6d70d16a2a"
      },
      "source": [
        "ratings.head()"
      ],
      "execution_count": 5,
      "outputs": [
        {
          "output_type": "execute_result",
          "data": {
            "text/html": [
              "<div>\n",
              "<style scoped>\n",
              "    .dataframe tbody tr th:only-of-type {\n",
              "        vertical-align: middle;\n",
              "    }\n",
              "\n",
              "    .dataframe tbody tr th {\n",
              "        vertical-align: top;\n",
              "    }\n",
              "\n",
              "    .dataframe thead th {\n",
              "        text-align: right;\n",
              "    }\n",
              "</style>\n",
              "<table border=\"1\" class=\"dataframe\">\n",
              "  <thead>\n",
              "    <tr style=\"text-align: right;\">\n",
              "      <th></th>\n",
              "      <th>movie_id</th>\n",
              "      <th>user_id</th>\n",
              "      <th>user_rating</th>\n",
              "    </tr>\n",
              "  </thead>\n",
              "  <tbody>\n",
              "    <tr>\n",
              "      <th>0</th>\n",
              "      <td>357</td>\n",
              "      <td>138</td>\n",
              "      <td>4.0</td>\n",
              "    </tr>\n",
              "    <tr>\n",
              "      <th>1</th>\n",
              "      <td>709</td>\n",
              "      <td>92</td>\n",
              "      <td>2.0</td>\n",
              "    </tr>\n",
              "    <tr>\n",
              "      <th>2</th>\n",
              "      <td>412</td>\n",
              "      <td>301</td>\n",
              "      <td>4.0</td>\n",
              "    </tr>\n",
              "    <tr>\n",
              "      <th>3</th>\n",
              "      <td>56</td>\n",
              "      <td>60</td>\n",
              "      <td>4.0</td>\n",
              "    </tr>\n",
              "    <tr>\n",
              "      <th>4</th>\n",
              "      <td>895</td>\n",
              "      <td>197</td>\n",
              "      <td>3.0</td>\n",
              "    </tr>\n",
              "  </tbody>\n",
              "</table>\n",
              "</div>"
            ],
            "text/plain": [
              "   movie_id  user_id  user_rating\n",
              "0       357      138          4.0\n",
              "1       709       92          2.0\n",
              "2       412      301          4.0\n",
              "3        56       60          4.0\n",
              "4       895      197          3.0"
            ]
          },
          "metadata": {},
          "execution_count": 5
        }
      ]
    },
    {
      "cell_type": "code",
      "metadata": {
        "id": "vOdnsCSAGdmI"
      },
      "source": [
        "n_movie = ratings.movie_id.nunique()\n",
        "n_user = ratings.user_id.nunique()"
      ],
      "execution_count": 9,
      "outputs": []
    },
    {
      "cell_type": "code",
      "metadata": {
        "id": "h3AoHNzCG9SI"
      },
      "source": [
        "from sklearn.model_selection import train_test_split\n",
        "\n",
        "train, test = train_test_split(ratings, test_size=0.2)"
      ],
      "execution_count": 10,
      "outputs": []
    },
    {
      "cell_type": "code",
      "metadata": {
        "id": "GiBmdDxVH21D"
      },
      "source": [
        "from tensorflow.keras.models import Model\n",
        "from tensorflow.keras.layers import Input, Embedding, Dot, Flatten\n",
        "\n",
        "EMBEDDING_DIM = 35\n",
        "\n",
        "# input layer\n",
        "movie_input = Input(shape=1)\n",
        "user_input = Input(shape=1)\n",
        "\n",
        "#embedding layer\n",
        "movie_embedding = Embedding(n_movie+1, EMBEDDING_DIM)(movie_input)\n",
        "user_embedding = Embedding(n_user+1, EMBEDDING_DIM)(user_input)\n",
        "\n",
        "movie_flat = Flatten()(movie_embedding)\n",
        "user_flat = Flatten()(user_embedding)\n",
        "\n",
        "# output layer\n",
        "output = Dot(1)([movie_flat, user_flat])\n",
        "\n",
        "model = Model([movie_input, user_input], [output])"
      ],
      "execution_count": 25,
      "outputs": []
    },
    {
      "cell_type": "code",
      "metadata": {
        "id": "Np6HRt0MOgzR"
      },
      "source": [
        "model.compile(optimizer='adam', loss='mse')"
      ],
      "execution_count": 26,
      "outputs": []
    },
    {
      "cell_type": "code",
      "metadata": {
        "colab": {
          "base_uri": "https://localhost:8080/"
        },
        "id": "i6ZXvCYNO1R9",
        "outputId": "f0e8bb72-6f1e-426c-b83f-dd2853064693"
      },
      "source": [
        "model.fit(x=[train.movie_id, train.user_id], y=train.user_rating,\n",
        "          epochs=30, \n",
        "          batch_size=128)"
      ],
      "execution_count": 27,
      "outputs": [
        {
          "output_type": "stream",
          "name": "stdout",
          "text": [
            "Epoch 1/30\n",
            "625/625 [==============================] - 2s 2ms/step - loss: 12.1663\n",
            "Epoch 2/30\n",
            "625/625 [==============================] - 1s 2ms/step - loss: 2.6596\n",
            "Epoch 3/30\n",
            "625/625 [==============================] - 1s 2ms/step - loss: 1.1465\n",
            "Epoch 4/30\n",
            "625/625 [==============================] - 1s 2ms/step - loss: 0.9473\n",
            "Epoch 5/30\n",
            "625/625 [==============================] - 1s 2ms/step - loss: 0.8778\n",
            "Epoch 6/30\n",
            "625/625 [==============================] - 1s 2ms/step - loss: 0.8400\n",
            "Epoch 7/30\n",
            "625/625 [==============================] - 1s 2ms/step - loss: 0.8145\n",
            "Epoch 8/30\n",
            "625/625 [==============================] - 1s 2ms/step - loss: 0.7938\n",
            "Epoch 9/30\n",
            "625/625 [==============================] - 1s 2ms/step - loss: 0.7757\n",
            "Epoch 10/30\n",
            "625/625 [==============================] - 1s 2ms/step - loss: 0.7591\n",
            "Epoch 11/30\n",
            "625/625 [==============================] - 1s 2ms/step - loss: 0.7415\n",
            "Epoch 12/30\n",
            "625/625 [==============================] - 1s 2ms/step - loss: 0.7229\n",
            "Epoch 13/30\n",
            "625/625 [==============================] - 1s 2ms/step - loss: 0.7043\n",
            "Epoch 14/30\n",
            "625/625 [==============================] - 1s 2ms/step - loss: 0.6845\n",
            "Epoch 15/30\n",
            "625/625 [==============================] - 1s 2ms/step - loss: 0.6646\n",
            "Epoch 16/30\n",
            "625/625 [==============================] - 1s 2ms/step - loss: 0.6437\n",
            "Epoch 17/30\n",
            "625/625 [==============================] - 1s 2ms/step - loss: 0.6227\n",
            "Epoch 18/30\n",
            "625/625 [==============================] - 1s 2ms/step - loss: 0.6012\n",
            "Epoch 19/30\n",
            "625/625 [==============================] - 1s 2ms/step - loss: 0.5794\n",
            "Epoch 20/30\n",
            "625/625 [==============================] - 1s 2ms/step - loss: 0.5571\n",
            "Epoch 21/30\n",
            "625/625 [==============================] - 1s 2ms/step - loss: 0.5346\n",
            "Epoch 22/30\n",
            "625/625 [==============================] - 1s 2ms/step - loss: 0.5127\n",
            "Epoch 23/30\n",
            "625/625 [==============================] - 1s 2ms/step - loss: 0.4895\n",
            "Epoch 24/30\n",
            "625/625 [==============================] - 1s 2ms/step - loss: 0.4674\n",
            "Epoch 25/30\n",
            "625/625 [==============================] - 1s 2ms/step - loss: 0.4457\n",
            "Epoch 26/30\n",
            "625/625 [==============================] - 1s 2ms/step - loss: 0.4242\n",
            "Epoch 27/30\n",
            "625/625 [==============================] - 1s 2ms/step - loss: 0.4043\n",
            "Epoch 28/30\n",
            "625/625 [==============================] - 1s 2ms/step - loss: 0.3848\n",
            "Epoch 29/30\n",
            "625/625 [==============================] - 1s 2ms/step - loss: 0.3664\n",
            "Epoch 30/30\n",
            "625/625 [==============================] - 1s 2ms/step - loss: 0.3497\n"
          ]
        },
        {
          "output_type": "execute_result",
          "data": {
            "text/plain": [
              "<keras.callbacks.History at 0x7f74f75d8950>"
            ]
          },
          "metadata": {},
          "execution_count": 27
        }
      ]
    },
    {
      "cell_type": "code",
      "metadata": {
        "colab": {
          "base_uri": "https://localhost:8080/"
        },
        "id": "0bnj_IAGQCPO",
        "outputId": "9692893a-e5c0-4733-a2c3-b12bacbcc6a8"
      },
      "source": [
        "model.evaluate(x=[test.movie_id, test.user_id], y=test.user_rating)"
      ],
      "execution_count": 28,
      "outputs": [
        {
          "output_type": "stream",
          "name": "stdout",
          "text": [
            "625/625 [==============================] - 1s 1ms/step - loss: 0.9500\n"
          ]
        },
        {
          "output_type": "execute_result",
          "data": {
            "text/plain": [
              "0.9499675631523132"
            ]
          },
          "metadata": {},
          "execution_count": 28
        }
      ]
    },
    {
      "cell_type": "code",
      "metadata": {
        "id": "9eMoGjbrQwiZ"
      },
      "source": [
        "model.save('model.h5')"
      ],
      "execution_count": 29,
      "outputs": []
    },
    {
      "cell_type": "code",
      "metadata": {
        "colab": {
          "base_uri": "https://localhost:8080/",
          "height": 487
        },
        "id": "Ak_pj0dRSlHp",
        "outputId": "271ccba2-cbd2-49d3-ab99-8ac8100ca13e"
      },
      "source": [
        "import numpy as np\n",
        "import matplotlib.pyplot as plt\n",
        "\n",
        "def get_recommendations(user_id, movies, model):\n",
        "  movies = movies.copy()\n",
        "  user_ids = np.array([user_id] * len(movies))\n",
        "  results = model([movies.movie_id.values, user_ids]).numpy().reshape(-1)\n",
        "\n",
        "  movies['predicted_rating'] = pd.Series(results)\n",
        "  movies = movies.sort_values('predicted_rating', ascending=False)\n",
        "\n",
        "  print(f'Recommendations for user {user_id}')\n",
        "  return movies\n",
        "\n",
        "get_recommendations(140, movies, model)"
      ],
      "execution_count": 31,
      "outputs": [
        {
          "output_type": "stream",
          "name": "stdout",
          "text": [
            "Recommendations for user 140\n"
          ]
        },
        {
          "output_type": "execute_result",
          "data": {
            "text/html": [
              "<div>\n",
              "<style scoped>\n",
              "    .dataframe tbody tr th:only-of-type {\n",
              "        vertical-align: middle;\n",
              "    }\n",
              "\n",
              "    .dataframe tbody tr th {\n",
              "        vertical-align: top;\n",
              "    }\n",
              "\n",
              "    .dataframe thead th {\n",
              "        text-align: right;\n",
              "    }\n",
              "</style>\n",
              "<table border=\"1\" class=\"dataframe\">\n",
              "  <thead>\n",
              "    <tr style=\"text-align: right;\">\n",
              "      <th></th>\n",
              "      <th>movie_id</th>\n",
              "      <th>movie_title</th>\n",
              "      <th>movie_genres_str</th>\n",
              "      <th>predicted_rating</th>\n",
              "    </tr>\n",
              "  </thead>\n",
              "  <tbody>\n",
              "    <tr>\n",
              "      <th>1404</th>\n",
              "      <td>1405</td>\n",
              "      <td>Boy's Life 2 (1997)</td>\n",
              "      <td>['Documentary']</td>\n",
              "      <td>5.154822</td>\n",
              "    </tr>\n",
              "    <tr>\n",
              "      <th>268</th>\n",
              "      <td>269</td>\n",
              "      <td>Full Monty, The (1997)</td>\n",
              "      <td>[\"Children's\"]</td>\n",
              "      <td>5.062214</td>\n",
              "    </tr>\n",
              "    <tr>\n",
              "      <th>115</th>\n",
              "      <td>116</td>\n",
              "      <td>Cold Comfort Farm (1995)</td>\n",
              "      <td>[\"Children's\"]</td>\n",
              "      <td>4.992833</td>\n",
              "    </tr>\n",
              "    <tr>\n",
              "      <th>1357</th>\n",
              "      <td>1358</td>\n",
              "      <td>The Deadly Cure (1996)</td>\n",
              "      <td>['unknown']</td>\n",
              "      <td>4.903272</td>\n",
              "    </tr>\n",
              "    <tr>\n",
              "      <th>112</th>\n",
              "      <td>113</td>\n",
              "      <td>Horseman on the Roof, The (Hussard sur le toit...</td>\n",
              "      <td>['Documentary']</td>\n",
              "      <td>4.899982</td>\n",
              "    </tr>\n",
              "    <tr>\n",
              "      <th>...</th>\n",
              "      <td>...</td>\n",
              "      <td>...</td>\n",
              "      <td>...</td>\n",
              "      <td>...</td>\n",
              "    </tr>\n",
              "    <tr>\n",
              "      <th>1320</th>\n",
              "      <td>1321</td>\n",
              "      <td>Open Season (1996)</td>\n",
              "      <td>[\"Children's\"]</td>\n",
              "      <td>-0.090982</td>\n",
              "    </tr>\n",
              "    <tr>\n",
              "      <th>1595</th>\n",
              "      <td>1596</td>\n",
              "      <td>Nemesis 2: Nebula (1995)</td>\n",
              "      <td>['unknown', 'Sci-Fi', 'Thriller']</td>\n",
              "      <td>-0.092259</td>\n",
              "    </tr>\n",
              "    <tr>\n",
              "      <th>1594</th>\n",
              "      <td>1595</td>\n",
              "      <td>Shopping (1994)</td>\n",
              "      <td>['unknown', 'Thriller']</td>\n",
              "      <td>-0.099592</td>\n",
              "    </tr>\n",
              "    <tr>\n",
              "      <th>1200</th>\n",
              "      <td>1201</td>\n",
              "      <td>Marlene Dietrich: Shadow and Light (1996)</td>\n",
              "      <td>['Crime']</td>\n",
              "      <td>-0.128418</td>\n",
              "    </tr>\n",
              "    <tr>\n",
              "      <th>1578</th>\n",
              "      <td>1579</td>\n",
              "      <td>Baton Rouge (1988)</td>\n",
              "      <td>['Thriller']</td>\n",
              "      <td>-0.152751</td>\n",
              "    </tr>\n",
              "  </tbody>\n",
              "</table>\n",
              "<p>1682 rows × 4 columns</p>\n",
              "</div>"
            ],
            "text/plain": [
              "      movie_id  ... predicted_rating\n",
              "1404      1405  ...         5.154822\n",
              "268        269  ...         5.062214\n",
              "115        116  ...         4.992833\n",
              "1357      1358  ...         4.903272\n",
              "112        113  ...         4.899982\n",
              "...        ...  ...              ...\n",
              "1320      1321  ...        -0.090982\n",
              "1595      1596  ...        -0.092259\n",
              "1594      1595  ...        -0.099592\n",
              "1200      1201  ...        -0.128418\n",
              "1578      1579  ...        -0.152751\n",
              "\n",
              "[1682 rows x 4 columns]"
            ]
          },
          "metadata": {},
          "execution_count": 31
        }
      ]
    },
    {
      "cell_type": "code",
      "metadata": {
        "id": "nVQElmPcTbHD"
      },
      "source": [
        "def get_embedding(movies, model):\n",
        "  vectors = model.layers[2](movies.movie_id.values).numpy()\n",
        "  vectors = pd.DataFrame(vectors)\n",
        "  vectors.to_csv('vectors.tsv', sep='\\t', header=False)\n",
        "\n",
        "  movies.to_csv('meta.tsv', sep='\\t')\n",
        "\n",
        "get_embedding(movies, model)"
      ],
      "execution_count": 32,
      "outputs": []
    },
    {
      "cell_type": "code",
      "metadata": {
        "id": "Zo3Jr0r8UM7G"
      },
      "source": [
        ""
      ],
      "execution_count": null,
      "outputs": []
    }
  ]
}